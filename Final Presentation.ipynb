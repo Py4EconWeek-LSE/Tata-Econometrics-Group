{
 "cells": [
  {
   "cell_type": "code",
   "execution_count": 1,
   "metadata": {
    "slideshow": {
     "slide_type": "notes"
    }
   },
   "outputs": [
    {
     "output_type": "stream",
     "name": "stdout",
     "text": [
      "Requirement already satisfied: rise in /opt/anaconda3/lib/python3.7/site-packages (5.7.1)\n",
      "Requirement already satisfied: notebook>=6.0 in /opt/anaconda3/lib/python3.7/site-packages (from rise) (6.0.1)\n",
      "Requirement already satisfied: Send2Trash in /opt/anaconda3/lib/python3.7/site-packages (from notebook>=6.0->rise) (1.5.0)\n",
      "Requirement already satisfied: jinja2 in /opt/anaconda3/lib/python3.7/site-packages (from notebook>=6.0->rise) (2.10.3)\n",
      "Requirement already satisfied: jupyter-client>=5.3.1 in /opt/anaconda3/lib/python3.7/site-packages (from notebook>=6.0->rise) (5.3.3)\n",
      "Requirement already satisfied: pyzmq>=17 in /opt/anaconda3/lib/python3.7/site-packages (from notebook>=6.0->rise) (18.1.0)\n",
      "Requirement already satisfied: jupyter-core>=4.4.0 in /opt/anaconda3/lib/python3.7/site-packages (from notebook>=6.0->rise) (4.5.0)\n",
      "Requirement already satisfied: traitlets>=4.2.1 in /opt/anaconda3/lib/python3.7/site-packages (from notebook>=6.0->rise) (4.3.3)\n",
      "Requirement already satisfied: ipython-genutils in /opt/anaconda3/lib/python3.7/site-packages (from notebook>=6.0->rise) (0.2.0)\n",
      "Requirement already satisfied: nbconvert in /opt/anaconda3/lib/python3.7/site-packages (from notebook>=6.0->rise) (5.6.0)\n",
      "Requirement already satisfied: ipykernel in /opt/anaconda3/lib/python3.7/site-packages (from notebook>=6.0->rise) (5.1.2)\n",
      "Requirement already satisfied: terminado>=0.8.1 in /opt/anaconda3/lib/python3.7/site-packages (from notebook>=6.0->rise) (0.8.2)\n",
      "Requirement already satisfied: nbformat in /opt/anaconda3/lib/python3.7/site-packages (from notebook>=6.0->rise) (4.4.0)\n",
      "Requirement already satisfied: tornado>=5.0 in /opt/anaconda3/lib/python3.7/site-packages (from notebook>=6.0->rise) (6.0.3)\n",
      "Requirement already satisfied: prometheus-client in /opt/anaconda3/lib/python3.7/site-packages (from notebook>=6.0->rise) (0.7.1)\n",
      "Requirement already satisfied: MarkupSafe>=0.23 in /opt/anaconda3/lib/python3.7/site-packages (from jinja2->notebook>=6.0->rise) (1.1.1)\n",
      "Requirement already satisfied: python-dateutil>=2.1 in /opt/anaconda3/lib/python3.7/site-packages (from jupyter-client>=5.3.1->notebook>=6.0->rise) (2.8.0)\n",
      "Requirement already satisfied: six in /opt/anaconda3/lib/python3.7/site-packages (from traitlets>=4.2.1->notebook>=6.0->rise) (1.12.0)\n",
      "Requirement already satisfied: decorator in /opt/anaconda3/lib/python3.7/site-packages (from traitlets>=4.2.1->notebook>=6.0->rise) (4.4.0)\n",
      "Requirement already satisfied: defusedxml in /opt/anaconda3/lib/python3.7/site-packages (from nbconvert->notebook>=6.0->rise) (0.6.0)\n",
      "Requirement already satisfied: pygments in /opt/anaconda3/lib/python3.7/site-packages (from nbconvert->notebook>=6.0->rise) (2.4.2)\n",
      "Requirement already satisfied: mistune<2,>=0.8.1 in /opt/anaconda3/lib/python3.7/site-packages (from nbconvert->notebook>=6.0->rise) (0.8.4)\n",
      "Requirement already satisfied: entrypoints>=0.2.2 in /opt/anaconda3/lib/python3.7/site-packages (from nbconvert->notebook>=6.0->rise) (0.3)\n",
      "Requirement already satisfied: bleach in /opt/anaconda3/lib/python3.7/site-packages (from nbconvert->notebook>=6.0->rise) (3.1.0)\n",
      "Requirement already satisfied: pandocfilters>=1.4.1 in /opt/anaconda3/lib/python3.7/site-packages (from nbconvert->notebook>=6.0->rise) (1.4.2)\n",
      "Requirement already satisfied: testpath in /opt/anaconda3/lib/python3.7/site-packages (from nbconvert->notebook>=6.0->rise) (0.4.2)\n",
      "Requirement already satisfied: ipython>=5.0.0 in /opt/anaconda3/lib/python3.7/site-packages (from ipykernel->notebook>=6.0->rise) (7.8.0)\n",
      "Requirement already satisfied: jsonschema!=2.5.0,>=2.4 in /opt/anaconda3/lib/python3.7/site-packages (from nbformat->notebook>=6.0->rise) (3.0.2)\n",
      "Requirement already satisfied: webencodings in /opt/anaconda3/lib/python3.7/site-packages (from bleach->nbconvert->notebook>=6.0->rise) (0.5.1)\n",
      "Requirement already satisfied: pexpect; sys_platform != \"win32\" in /opt/anaconda3/lib/python3.7/site-packages (from ipython>=5.0.0->ipykernel->notebook>=6.0->rise) (4.7.0)\n",
      "Requirement already satisfied: pickleshare in /opt/anaconda3/lib/python3.7/site-packages (from ipython>=5.0.0->ipykernel->notebook>=6.0->rise) (0.7.5)\n",
      "Requirement already satisfied: jedi>=0.10 in /opt/anaconda3/lib/python3.7/site-packages (from ipython>=5.0.0->ipykernel->notebook>=6.0->rise) (0.15.1)\n",
      "Requirement already satisfied: appnope; sys_platform == \"darwin\" in /opt/anaconda3/lib/python3.7/site-packages (from ipython>=5.0.0->ipykernel->notebook>=6.0->rise) (0.1.0)\n",
      "Requirement already satisfied: backcall in /opt/anaconda3/lib/python3.7/site-packages (from ipython>=5.0.0->ipykernel->notebook>=6.0->rise) (0.1.0)\n",
      "Requirement already satisfied: setuptools>=18.5 in /opt/anaconda3/lib/python3.7/site-packages (from ipython>=5.0.0->ipykernel->notebook>=6.0->rise) (41.4.0)\n",
      "Requirement already satisfied: prompt-toolkit<2.1.0,>=2.0.0 in /opt/anaconda3/lib/python3.7/site-packages (from ipython>=5.0.0->ipykernel->notebook>=6.0->rise) (2.0.10)\n",
      "Requirement already satisfied: pyrsistent>=0.14.0 in /opt/anaconda3/lib/python3.7/site-packages (from jsonschema!=2.5.0,>=2.4->nbformat->notebook>=6.0->rise) (0.15.4)\n",
      "Requirement already satisfied: attrs>=17.4.0 in /opt/anaconda3/lib/python3.7/site-packages (from jsonschema!=2.5.0,>=2.4->nbformat->notebook>=6.0->rise) (19.2.0)\n",
      "Requirement already satisfied: ptyprocess>=0.5 in /opt/anaconda3/lib/python3.7/site-packages (from pexpect; sys_platform != \"win32\"->ipython>=5.0.0->ipykernel->notebook>=6.0->rise) (0.6.0)\n",
      "Requirement already satisfied: parso>=0.5.0 in /opt/anaconda3/lib/python3.7/site-packages (from jedi>=0.10->ipython>=5.0.0->ipykernel->notebook>=6.0->rise) (0.5.1)\n",
      "Requirement already satisfied: wcwidth in /opt/anaconda3/lib/python3.7/site-packages (from prompt-toolkit<2.1.0,>=2.0.0->ipython>=5.0.0->ipykernel->notebook>=6.0->rise) (0.1.7)\n"
     ]
    }
   ],
   "source": [
    "!pip install rise"
   ]
  },
  {
   "cell_type": "code",
   "execution_count": 2,
   "metadata": {
    "slideshow": {
     "slide_type": "notes"
    }
   },
   "outputs": [
    {
     "output_type": "execute_result",
     "data": {
      "text/plain": [
       "{'theme': 'sky',\n",
       " 'transition': 'zoom',\n",
       " 'start_slideshow_at': 'selected',\n",
       " 'rise': {'width': '90%', 'height': '90%'}}"
      ]
     },
     "metadata": {},
     "execution_count": 2
    }
   ],
   "source": [
    "from traitlets.config.manager import BaseJSONConfigManager\n",
    "from pathlib import Path\n",
    "path = Path.home() / \".jupyter\" / \"nbconfig\"\n",
    "cm = BaseJSONConfigManager(config_dir=str(path))\n",
    "cm.update(\n",
    "    \"rise\",\n",
    "    {\n",
    "        \"theme\": \"sky\",\n",
    "        \"transition\": \"zoom\",\n",
    "        \"start_slideshow_at\": \"selected\",\n",
    "         \"rise\": {\"width\": \"90%\", \"height\": \"90%\"}\n",
    "     }\n",
    ")"
   ]
  },
  {
   "cell_type": "markdown",
   "metadata": {
    "slideshow": {
     "slide_type": "slide"
    }
   },
   "source": [
    "# The Tata Econometrics Group\n",
    "\n",
    "## The Gravity Model of Trade"
   ]
  },
  {
   "cell_type": "markdown",
   "metadata": {
    "slideshow": {
     "slide_type": "slide"
    }
   },
   "source": [
    "## Motivation\n",
    "\n",
    "- Our Indian Link & Economic History \n",
    "\n",
    "- Research Question: \"What are the key insights we can obtain when comparing colonised and not colonised countries on their bilateral trade today?\" \n",
    "    \n",
    "    - Hypothesis: \t* *The duration of a colony determines the volume of bilateral trade such that a longer a nation       colonised, the less the bilateral trade. \n",
    "    \n",
    "- (Working) Papers:\n",
    "    - Mitchener & Weidenmier (2008)\n",
    "        - Trade Flow factors, from railroads \n",
    "    - Nguyen & Wu (2019)\n",
    "        - Preferential Trade Agreements \n",
    "\n",
    "- Our Regression equation:\n",
    "\n",
    "### ln(Exportsij) = β0 + β1lnYi+ β2lnYj + β3lnDij + β4ELTi + β5ESTi + β4BLTi+ β5BSTi + β6ln(TOij) + β7comcol  + εij"
   ]
  },
  {
   "cell_type": "markdown",
   "metadata": {
    "slideshow": {
     "slide_type": "slide"
    }
   },
   "source": [
    "## Approach\n",
    "\n",
    "- Split into two pairs by timezones\n",
    "\n",
    "- Our \"Tools\":\n",
    "    - Linjun as our Guru\n",
    "        - Whiteboard \n",
    "        - Theory\n",
    "        - Technical (GroupBy Functions)\n",
    "    \n",
    "    - Microsoft Teams/Zoom\n",
    "   \n",
    "    - Google Colab\n",
    "    \n",
    "    - Github for the Final steps\n",
    "    \n"
   ]
  },
  {
   "cell_type": "code",
   "execution_count": 5,
   "metadata": {
    "slideshow": {
     "slide_type": "slide"
    }
   },
   "outputs": [
    {
     "output_type": "execute_result",
     "data": {
      "text/plain": [
       "<class 'statsmodels.iolib.summary.Summary'>\n",
       "\"\"\"\n",
       "                            OLS Regression Results                            \n",
       "==============================================================================\n",
       "Dep. Variable:               ln_trade   R-squared:                       0.644\n",
       "Model:                            OLS   Adj. R-squared:                  0.643\n",
       "Method:                 Least Squares   F-statistic:                     480.5\n",
       "Date:                Sat, 27 Feb 2021   Prob (F-statistic):               0.00\n",
       "Time:                        11:03:19   Log-Likelihood:                -3537.2\n",
       "No. Observations:                1949   AIC:                             7094.\n",
       "Df Residuals:                    1939   BIC:                             7150.\n",
       "Df Model:                           9                                         \n",
       "Covariance Type:                  HC1                                         \n",
       "============================================================================================\n",
       "                               coef    std err          z      P>|z|      [0.025      0.975]\n",
       "--------------------------------------------------------------------------------------------\n",
       "const                      -27.3346      0.775    -35.277      0.000     -28.853     -25.816\n",
       "ln_GDP_1                     0.7440      0.017     43.710      0.000       0.711       0.777\n",
       "ln_GDP_2                     0.7704      0.020     39.409      0.000       0.732       0.809\n",
       "ln_distance                 -0.8759      0.036    -24.223      0.000      -0.947      -0.805\n",
       "ln_trade_restrictiveness    -0.0883      0.035     -2.518      0.012      -0.157      -0.020\n",
       "comcol                       0.6626      0.323      2.053      0.040       0.030       1.295\n",
       "either_short_term_colony    -0.0645      0.086     -0.753      0.452      -0.233       0.104\n",
       "either_long_term_colony      0.1044      0.098      1.063      0.288      -0.088       0.297\n",
       "both_short_term_colony       0.7735      0.321      2.411      0.016       0.145       1.402\n",
       "both_long_term_colony        0.3232      0.361      0.895      0.371      -0.385       1.031\n",
       "==============================================================================\n",
       "Omnibus:                       37.084   Durbin-Watson:                   1.585\n",
       "Prob(Omnibus):                  0.000   Jarque-Bera (JB):               44.959\n",
       "Skew:                          -0.263   Prob(JB):                     1.73e-10\n",
       "Kurtosis:                       3.526   Cond. No.                         911.\n",
       "==============================================================================\n",
       "\n",
       "Warnings:\n",
       "[1] Standard Errors are heteroscedasticity robust (HC1)\n",
       "\"\"\""
      ],
      "text/html": "<table class=\"simpletable\">\n<caption>OLS Regression Results</caption>\n<tr>\n  <th>Dep. Variable:</th>        <td>ln_trade</td>     <th>  R-squared:         </th> <td>   0.644</td>\n</tr>\n<tr>\n  <th>Model:</th>                   <td>OLS</td>       <th>  Adj. R-squared:    </th> <td>   0.643</td>\n</tr>\n<tr>\n  <th>Method:</th>             <td>Least Squares</td>  <th>  F-statistic:       </th> <td>   480.5</td>\n</tr>\n<tr>\n  <th>Date:</th>             <td>Sat, 27 Feb 2021</td> <th>  Prob (F-statistic):</th>  <td>  0.00</td> \n</tr>\n<tr>\n  <th>Time:</th>                 <td>11:03:19</td>     <th>  Log-Likelihood:    </th> <td> -3537.2</td>\n</tr>\n<tr>\n  <th>No. Observations:</th>      <td>  1949</td>      <th>  AIC:               </th> <td>   7094.</td>\n</tr>\n<tr>\n  <th>Df Residuals:</th>          <td>  1939</td>      <th>  BIC:               </th> <td>   7150.</td>\n</tr>\n<tr>\n  <th>Df Model:</th>              <td>     9</td>      <th>                     </th>     <td> </td>   \n</tr>\n<tr>\n  <th>Covariance Type:</th>         <td>HC1</td>       <th>                     </th>     <td> </td>   \n</tr>\n</table>\n<table class=\"simpletable\">\n<tr>\n              <td></td>                <th>coef</th>     <th>std err</th>      <th>z</th>      <th>P>|z|</th>  <th>[0.025</th>    <th>0.975]</th>  \n</tr>\n<tr>\n  <th>const</th>                    <td>  -27.3346</td> <td>    0.775</td> <td>  -35.277</td> <td> 0.000</td> <td>  -28.853</td> <td>  -25.816</td>\n</tr>\n<tr>\n  <th>ln_GDP_1</th>                 <td>    0.7440</td> <td>    0.017</td> <td>   43.710</td> <td> 0.000</td> <td>    0.711</td> <td>    0.777</td>\n</tr>\n<tr>\n  <th>ln_GDP_2</th>                 <td>    0.7704</td> <td>    0.020</td> <td>   39.409</td> <td> 0.000</td> <td>    0.732</td> <td>    0.809</td>\n</tr>\n<tr>\n  <th>ln_distance</th>              <td>   -0.8759</td> <td>    0.036</td> <td>  -24.223</td> <td> 0.000</td> <td>   -0.947</td> <td>   -0.805</td>\n</tr>\n<tr>\n  <th>ln_trade_restrictiveness</th> <td>   -0.0883</td> <td>    0.035</td> <td>   -2.518</td> <td> 0.012</td> <td>   -0.157</td> <td>   -0.020</td>\n</tr>\n<tr>\n  <th>comcol</th>                   <td>    0.6626</td> <td>    0.323</td> <td>    2.053</td> <td> 0.040</td> <td>    0.030</td> <td>    1.295</td>\n</tr>\n<tr>\n  <th>either_short_term_colony</th> <td>   -0.0645</td> <td>    0.086</td> <td>   -0.753</td> <td> 0.452</td> <td>   -0.233</td> <td>    0.104</td>\n</tr>\n<tr>\n  <th>either_long_term_colony</th>  <td>    0.1044</td> <td>    0.098</td> <td>    1.063</td> <td> 0.288</td> <td>   -0.088</td> <td>    0.297</td>\n</tr>\n<tr>\n  <th>both_short_term_colony</th>   <td>    0.7735</td> <td>    0.321</td> <td>    2.411</td> <td> 0.016</td> <td>    0.145</td> <td>    1.402</td>\n</tr>\n<tr>\n  <th>both_long_term_colony</th>    <td>    0.3232</td> <td>    0.361</td> <td>    0.895</td> <td> 0.371</td> <td>   -0.385</td> <td>    1.031</td>\n</tr>\n</table>\n<table class=\"simpletable\">\n<tr>\n  <th>Omnibus:</th>       <td>37.084</td> <th>  Durbin-Watson:     </th> <td>   1.585</td>\n</tr>\n<tr>\n  <th>Prob(Omnibus):</th> <td> 0.000</td> <th>  Jarque-Bera (JB):  </th> <td>  44.959</td>\n</tr>\n<tr>\n  <th>Skew:</th>          <td>-0.263</td> <th>  Prob(JB):          </th> <td>1.73e-10</td>\n</tr>\n<tr>\n  <th>Kurtosis:</th>      <td> 3.526</td> <th>  Cond. No.          </th> <td>    911.</td>\n</tr>\n</table><br/><br/>Warnings:<br/>[1] Standard Errors are heteroscedasticity robust (HC1)"
     },
     "metadata": {},
     "execution_count": 5
    }
   ],
   "source": [
    "#Tushar Mehra\n",
    "\n",
    "import pandas as pd\n",
    "import numpy as np\n",
    "import matplotlib.pyplot as plt\n",
    "import statsmodels.api as sm\n",
    "\n",
    "gravity = pd.read_excel('https://www.dropbox.com/s/2uha8rwc8bngcsz/servicesdataset%202.xlsx?dl=1')\n",
    "\n",
    "gravity.head()\n",
    "\n",
    "gravity.shape\n",
    "\n",
    "gravity.describe()\n",
    "\n",
    "gravity['trade_restrictiveness'] = gravity['ent_cost_imp'] + gravity['ent_cost_exp']\n",
    "#Adding cost oftrade to importer and cost of trade to exporter together to measure trade restrictiveness (0 means none, more than 2 means virtually impossible to trade) \n",
    "\n",
    "gravity = gravity.drop(['contig','comlang_off','comlang_ethno','colony','distcap','etcr_exp','etcr_imp','lat_exp','lat_imp'], axis=1)\n",
    "\n",
    "colony= pd.read_excel('https://www.dropbox.com/s/216s24p3f8aj8ni/Copy%20of%20Colonial_transformation_data%20%281%29.xls?dl=1')\n",
    "\n",
    "colony.head()\n",
    "\n",
    "colony.describe()\n",
    "\n",
    "colony.shape\n",
    "\n",
    "gravity.columns\n",
    "\n",
    "colony.columns\n",
    "\n",
    "def clean_col(col):\n",
    "  col = col.strip()\n",
    "  col = col.replace('Country Name', 'Country Name - Importer')\n",
    "  col = col.replace('Main colonial \"motherland\", source: Ziltener/KŸnzler', 'Colonial Motherland - Importer')\n",
    "  col = col.replace('onset of colonialism, source: Ziltener/KŸnzler 2008', 'Year of Colonisation - Importer')\n",
    "  col = col.replace('end of colonialism, source: Ziltener/KŸnzler 2008', 'Year of Independence - Importer')\n",
    "  col = col.replace('COLYEARS', 'Years under Colonisation - Importer')\n",
    "  return col\n",
    "\n",
    "new_columns = []\n",
    "for c in colony.columns:\n",
    "    clean_c = clean_col(c)\n",
    "    new_columns.append(clean_c)\n",
    "\n",
    "colony.columns = new_columns\n",
    "\n",
    "colony_series_dropper = colony.columns.to_series()['Violent Colonization, Wars of Defence etc; Source: own coding; cf. COW Dataset (':'colonial borders split ethnic groups, cut traditional space of close interaction']\n",
    "colony = colony.drop(colony_series_dropper, axis=1)\n",
    "#Dropping extra data points that are not going to be needed for our regression; had to convert columns to a series to be able to drop a range of columns \n",
    "\n",
    "\n",
    "combined_imp = gravity.merge(colony, left_on = 'imp', right_on = 'Country Code World Bank', how = 'left')\n",
    "combined_imp.tail()\n",
    "\n",
    "def clean_col_2(col):\n",
    "  col = col.strip()\n",
    "  col = col.replace('Country Name - Importer', 'Country Name - Exporter')\n",
    "  col = col.replace('Colonial Motherland - Importer', 'Colonial Motherland - Exporter')\n",
    "  col = col.replace('Year of Colonisation - Importer', 'Year of Colonisation - Exporter' )\n",
    "  col = col.replace('Year of Independence - Importer', 'Year of Independence - Exporter')\n",
    "  col = col.replace('Years under Colonisation - Importer', 'Years under Colonisation - Exporter')\n",
    "  return col\n",
    "\n",
    "new_columns = []\n",
    "for c in colony.columns:\n",
    "    clean_c = clean_col_2(c)\n",
    "    new_columns.append(clean_c)\n",
    "\n",
    "colony.columns = new_columns\n",
    "\n",
    "# note here that to merge two things, you need to provide a reference column so the computer knows what you're merging based on, i.e. to associate A in dataframe 1 with A in dataframe 2.\n",
    "# hence ask yourself if you're merging based on exp or imp in the gravity dataframe, and which associatetd column in the colonisation dataframe.\n",
    "\n",
    "# after that, read the .merge reference here https://pandas.pydata.org/pandas-docs/version/0.23.4/generated/pandas.merge.html or I can provide more hints, if you would like.\n",
    "\n",
    "\n",
    "combined = combined_imp.merge(colony, left_on = 'exp', right_on = 'Country Code World Bank', how = 'left')\n",
    "combined.tail()\n",
    "\n",
    "combined.head()\n",
    "\n",
    "imp_short_term_colony_bool = combined.loc[:, 'Years under Colonisation - Importer'] <= 100\n",
    "imp_long_term_colony_bool = combined['Years under Colonisation - Importer'] > 100\n",
    "exp_short_term_colony_bool = combined['Years under Colonisation - Exporter'] <= 100\n",
    "exp_long_term_colony_bool = combined['Years under Colonisation - Exporter'] > 100\n",
    "#Time period of 100 years determined by seeing the mean and median of the data from colony.describe() above\n",
    "\n",
    "combined.loc[imp_short_term_colony_bool,:]\n",
    "\n",
    "combined.loc[imp_long_term_colony_bool, :]\n",
    "\n",
    "combined.shape\n",
    "\n",
    "GBR_test_bool = (combined['imp'] == 'GBR')\n",
    "#Have this boolean for testing purposes to see what happens to non-colonised countries in our data set\n",
    "\n",
    "\n",
    "combined.loc[GBR_test_bool, :]\n",
    "#This is the test to see what happens when you examine the importing data for GBR, a country that was never colonised\n",
    "\n",
    "\n",
    "combined['imp_short_term_colony'] = 0\n",
    "combined['imp_long_term_colony'] = 0\n",
    "combined['exp_short_term_colony'] = 0\n",
    "combined['exp_long_term_colony'] = 0\n",
    "#Do all the coding for short-term and long-term colonies in the same cells so that they are easier to keep track of\n",
    "\n",
    "combined.loc[imp_short_term_colony_bool,'imp_short_term_colony'] = 1\n",
    "combined.loc[imp_long_term_colony_bool,'imp_long_term_colony'] = 1\n",
    "combined.loc[exp_short_term_colony_bool,'exp_short_term_colony'] = 1\n",
    "combined.loc[exp_long_term_colony_bool,'exp_long_term_colony'] = 1\n",
    "\n",
    "colony_duration_test_bool = (combined['imp'] == 'IND')\n",
    "combined.loc[colony_duration_test_bool, :]\n",
    "#This boolean is to test whether the dummy of short-term and long-term colony has worked or not; can change the three-letter imp code and see the short-term colony column\n",
    "\n",
    "combined['Colonial Motherland - Importer'].unique()\n",
    "\n",
    "combined['Colonial Motherland - Exporter'].unique()\n",
    "\n",
    "combined.shape\n",
    "\n",
    "def combine_partner_name(x):\n",
    "  partner_1 = x['imp']\n",
    "  partner_2 = x['exp']\n",
    "\n",
    "  partner_list = [partner_1, partner_2]\n",
    "  partner_list.sort()\n",
    "\n",
    "  x['partner-list'] = partner_list[0] + \"-\" + partner_list[1]\n",
    "  return x\n",
    "\n",
    "combined = combined.apply(combine_partner_name, axis = 1)\n",
    "\n",
    "combined.tail()\n",
    "\n",
    "combined.shape\n",
    "\n",
    "trade_data = combined.groupby(['partner-list'])['trade'].sum().reset_index()\n",
    "trade_data.head()\n",
    "#If you don't use the reset index method, then you would just have a series where the partner-list is the index. The reset index takes the partner list out and makes it a separate column\n",
    "\n",
    "combined_specific = combined[['partner-list', 'comcol', 'curcol', 'col45', 'dist','distw', 'distwces', 'gdp_exp', 'gdp_imp', 'ent_cost_imp', 'ent_cost_exp','trade_restrictiveness', 'imp_short_term_colony',\t'imp_long_term_colony','exp_short_term_colony','exp_long_term_colony']].drop_duplicates(subset = ['partner-list'])\n",
    "combined_specific.rename(columns={'gdp_exp': 'gdp_1', 'gdp_imp':'gdp_2','imp_short_term_colony':'short_term_colony_1', 'exp_short_term_colony': 'short_term_colony_2', 'imp_long_term_colony':'long_term_colony_1', 'exp_long_term_colony': 'long_term_colony_2' })\n",
    "#Dropping duplicates for colony data in the subset of partner list doesn't matter since the only case where there would be a duplicate to be dropped is if neither are colonies, both are short-term or both are long-term\n",
    "\n",
    "combined_trade_data = pd.merge(trade_data, combined_specific, on ='partner-list', how = 'inner')\n",
    "combined_trade_data[combined_trade_data['partner-list'] == 'GBR-IND']\n",
    "\n",
    "combined_trade_data = combined_trade_data.rename(columns={'gdp_exp': 'gdp_1', 'gdp_imp':'gdp_2','imp_short_term_colony':'short_term_colony_1', 'exp_short_term_colony': 'short_term_colony_2', 'imp_long_term_colony':'long_term_colony_1', 'exp_long_term_colony': 'long_term_colony_2', 'ent_cost_imp':'ent_cost_1','ent_cost_exp':'ent_cost_2' })\n",
    "combined_trade_data.head()\n",
    "\n",
    "combined_trade_data.shape\n",
    "\n",
    "combined_trade_data['either_short_term_colony'] = combined_trade_data['short_term_colony_1'] + combined_trade_data['short_term_colony_2']\n",
    "combined_trade_data['either_long_term_colony'] = combined_trade_data['long_term_colony_1'] + combined_trade_data['long_term_colony_2']\n",
    "combined_trade_data['either_short_term_colony'].value_counts()\n",
    "\n",
    "\n",
    "combined_trade_data['either_long_term_colony'].value_counts()\n",
    "\n",
    "combined_trade_data.loc[combined_trade_data['either_short_term_colony'] == 2, 'both_short_term_colony'] = 1\n",
    "combined_trade_data.loc[combined_trade_data['either_short_term_colony'] == 2]\n",
    "\n",
    "combined_trade_data.loc[combined_trade_data['either_long_term_colony'] == 2, 'both_long_term_colony'] = 1\n",
    "combined_trade_data.loc[combined_trade_data['either_long_term_colony'] == 2]\n",
    "\n",
    "combined_trade_data.shape\n",
    "\n",
    "combined_trade_data['either_short_term_colony'] = combined_trade_data['either_short_term_colony'].replace(2,0)\n",
    "combined_trade_data['either_long_term_colony'] = combined_trade_data['either_long_term_colony'].replace(2,0)\n",
    "\n",
    "combined_trade_data['either_short_term_colony'].value_counts()\n",
    "\n",
    "combined_trade_data['either_long_term_colony'].value_counts()\n",
    "\n",
    "combined_trade_data['both_short_term_colony'] = combined_trade_data['both_short_term_colony'].replace(np.nan,0)\n",
    "combined_trade_data['both_long_term_colony'] = combined_trade_data['both_long_term_colony'].replace(np.nan,0)\n",
    "\n",
    "combined_trade_data['both_long_term_colony'].value_counts()\n",
    "\n",
    "combined_trade_data['both_short_term_colony'].value_counts()\n",
    "\n",
    "combined_trade_data.shape\n",
    "\n",
    "combined_trade_data.tail()\n",
    "\n",
    "combined_trade_data['ln_GDP_1'] = np.log(combined_trade_data['gdp_1'])\n",
    "combined_trade_data['ln_GDP_2'] = np.log(combined_trade_data['gdp_2'])\n",
    "combined_trade_data['ln_distance'] = np.log(combined_trade_data['dist'])\n",
    "combined_trade_data = combined_trade_data[combined_trade_data['trade'] != 0]\n",
    "combined_trade_data['ln_trade'] = np.log(combined_trade_data['trade'])\n",
    "combined_trade_data['ln_trade_restrictiveness'] = np.log(combined_trade_data['trade_restrictiveness'])\n",
    "\n",
    "combined_trade_data.to_csv('Clean_Data.csv', index = False)\n",
    "\n",
    "X = combined_trade_data[['ln_GDP_1', 'ln_GDP_2', 'ln_distance', 'ln_trade_restrictiveness','comcol', 'either_short_term_colony', 'either_long_term_colony', 'both_short_term_colony','both_long_term_colony']]\n",
    "Y = combined_trade_data['ln_trade']\n",
    "X = sm.add_constant(X)\n",
    "\n",
    "regression_1 = sm.OLS(endog=Y, exog=X, missing ='drop')\n",
    "regression_1_results = regression_1.fit(cov_type = 'HC1')\n",
    "regression_1_results.summary()\n",
    "\n"
   ]
  },
  {
   "cell_type": "markdown",
   "metadata": {
    "slideshow": {
     "slide_type": "slide"
    }
   },
   "source": [
    "## Findings\n",
    "- Being a long-term colony is insignificant to biilateral trade\n",
    "- Short-term colonies seemingly ally together\n",
    "- Trade restrictiveness is less of a trade cost than distance\n",
    "- The traditional gravity model takes precedence over our assumptions/hypothesis"
   ]
  },
  {
   "cell_type": "code",
   "execution_count": null,
   "metadata": {
    "slideshow": {
     "slide_type": "slide"
    }
   },
   "outputs": [],
   "source": [
    "from IPython.display import Image\n",
    "Image(filename = 'GDP-Trade.png', width = 400, height = 400)\n",
    "Image(filename = 'Distance-Trade.png', width = 400, height = 400)\n"
   ]
  },
  {
   "cell_type": "code",
   "execution_count": null,
   "metadata": {
    "slideshow": {
     "slide_type": "slide"
    }
   },
   "outputs": [],
   "source": [
    "#Visualisations"
   ]
  },
  {
   "source": [
    "# Obstacles\n",
    "- how to specify regression equation?\n",
    "- workflow management\n",
    "- understanding why some data is missing and finding good data"
   ],
   "cell_type": "markdown",
   "metadata": {}
  },
  {
   "source": [
    "# Lessons\n",
    "- Drawing things out and having a structured approach before starting to code\n",
    "- Good programming etiquette, eg writing functions\n",
    "- Regularly check the data and make sure it is what you expect"
   ],
   "cell_type": "markdown",
   "metadata": {}
  },
  {
   "cell_type": "code",
   "execution_count": null,
   "metadata": {},
   "outputs": [],
   "source": []
  }
 ],
 "metadata": {
  "celltoolbar": "Slideshow",
  "kernelspec": {
   "display_name": "Python 3",
   "language": "python",
   "name": "python3"
  },
  "language_info": {
   "codemirror_mode": {
    "name": "ipython",
    "version": 3
   },
   "file_extension": ".py",
   "mimetype": "text/x-python",
   "name": "python",
   "nbconvert_exporter": "python",
   "pygments_lexer": "ipython3",
   "version": "3.7.4-final"
  }
 },
 "nbformat": 4,
 "nbformat_minor": 4
}