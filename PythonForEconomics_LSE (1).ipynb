{
 "cells": [
  {
   "cell_type": "code",
   "execution_count": 1,
   "metadata": {
    "slideshow": {
     "slide_type": "notes"
    }
   },
   "outputs": [
    {
     "name": "stdout",
     "output_type": "stream",
     "text": [
      "Requirement already satisfied: rise in c:\\users\\user\\anaconda3\\lib\\site-packages (5.7.1)\n",
      "Requirement already satisfied: notebook>=6.0 in c:\\users\\user\\anaconda3\\lib\\site-packages (from rise) (6.1.4)\n",
      "Requirement already satisfied: jinja2 in c:\\users\\user\\anaconda3\\lib\\site-packages (from notebook>=6.0->rise) (2.11.2)\n",
      "Requirement already satisfied: pyzmq>=17 in c:\\users\\user\\anaconda3\\lib\\site-packages (from notebook>=6.0->rise) (19.0.2)\n",
      "Requirement already satisfied: terminado>=0.8.3 in c:\\users\\user\\anaconda3\\lib\\site-packages (from notebook>=6.0->rise) (0.9.1)\n",
      "Requirement already satisfied: jupyter-core>=4.6.1 in c:\\users\\user\\anaconda3\\lib\\site-packages (from notebook>=6.0->rise) (4.6.3)\n",
      "Requirement already satisfied: traitlets>=4.2.1 in c:\\users\\user\\anaconda3\\lib\\site-packages (from notebook>=6.0->rise) (5.0.5)\n",
      "Requirement already satisfied: ipykernel in c:\\users\\user\\anaconda3\\lib\\site-packages (from notebook>=6.0->rise) (5.3.4)\n",
      "Requirement already satisfied: Send2Trash in c:\\users\\user\\anaconda3\\lib\\site-packages (from notebook>=6.0->rise) (1.5.0)\n",
      "Requirement already satisfied: jupyter-client>=5.3.4 in c:\\users\\user\\anaconda3\\lib\\site-packages (from notebook>=6.0->rise) (6.1.7)\n",
      "Requirement already satisfied: nbconvert in c:\\users\\user\\anaconda3\\lib\\site-packages (from notebook>=6.0->rise) (6.0.7)\n",
      "Requirement already satisfied: prometheus-client in c:\\users\\user\\anaconda3\\lib\\site-packages (from notebook>=6.0->rise) (0.8.0)\n",
      "Requirement already satisfied: ipython-genutils in c:\\users\\user\\anaconda3\\lib\\site-packages (from notebook>=6.0->rise) (0.2.0)\n",
      "Requirement already satisfied: nbformat in c:\\users\\user\\anaconda3\\lib\\site-packages (from notebook>=6.0->rise) (5.0.8)\n",
      "Requirement already satisfied: tornado>=5.0 in c:\\users\\user\\anaconda3\\lib\\site-packages (from notebook>=6.0->rise) (6.0.4)\n",
      "Requirement already satisfied: argon2-cffi in c:\\users\\user\\anaconda3\\lib\\site-packages (from notebook>=6.0->rise) (20.1.0)\n",
      "Requirement already satisfied: MarkupSafe>=0.23 in c:\\users\\user\\anaconda3\\lib\\site-packages (from jinja2->notebook>=6.0->rise) (1.1.1)\n",
      "Requirement already satisfied: pywinpty>=0.5 in c:\\users\\user\\anaconda3\\lib\\site-packages (from terminado>=0.8.3->notebook>=6.0->rise) (0.5.7)\n",
      "Requirement already satisfied: pywin32>=1.0; sys_platform == \"win32\" in c:\\users\\user\\anaconda3\\lib\\site-packages (from jupyter-core>=4.6.1->notebook>=6.0->rise) (227)\n",
      "Requirement already satisfied: ipython>=5.0.0 in c:\\users\\user\\anaconda3\\lib\\site-packages (from ipykernel->notebook>=6.0->rise) (7.19.0)\n",
      "Requirement already satisfied: python-dateutil>=2.1 in c:\\users\\user\\anaconda3\\lib\\site-packages (from jupyter-client>=5.3.4->notebook>=6.0->rise) (2.8.1)\n",
      "Requirement already satisfied: bleach in c:\\users\\user\\anaconda3\\lib\\site-packages (from nbconvert->notebook>=6.0->rise) (3.2.1)\n",
      "Requirement already satisfied: jupyterlab-pygments in c:\\users\\user\\anaconda3\\lib\\site-packages (from nbconvert->notebook>=6.0->rise) (0.1.2)\n",
      "Requirement already satisfied: entrypoints>=0.2.2 in c:\\users\\user\\anaconda3\\lib\\site-packages (from nbconvert->notebook>=6.0->rise) (0.3)\n",
      "Requirement already satisfied: testpath in c:\\users\\user\\anaconda3\\lib\\site-packages (from nbconvert->notebook>=6.0->rise) (0.4.4)\n",
      "Requirement already satisfied: defusedxml in c:\\users\\user\\anaconda3\\lib\\site-packages (from nbconvert->notebook>=6.0->rise) (0.6.0)\n",
      "Requirement already satisfied: pygments>=2.4.1 in c:\\users\\user\\anaconda3\\lib\\site-packages (from nbconvert->notebook>=6.0->rise) (2.7.2)\n",
      "Requirement already satisfied: nbclient<0.6.0,>=0.5.0 in c:\\users\\user\\anaconda3\\lib\\site-packages (from nbconvert->notebook>=6.0->rise) (0.5.1)\n",
      "Requirement already satisfied: pandocfilters>=1.4.1 in c:\\users\\user\\anaconda3\\lib\\site-packages (from nbconvert->notebook>=6.0->rise) (1.4.3)\n",
      "Requirement already satisfied: mistune<2,>=0.8.1 in c:\\users\\user\\anaconda3\\lib\\site-packages (from nbconvert->notebook>=6.0->rise) (0.8.4)\n",
      "Requirement already satisfied: jsonschema!=2.5.0,>=2.4 in c:\\users\\user\\anaconda3\\lib\\site-packages (from nbformat->notebook>=6.0->rise) (3.2.0)\n",
      "Requirement already satisfied: six in c:\\users\\user\\anaconda3\\lib\\site-packages (from argon2-cffi->notebook>=6.0->rise) (1.15.0)\n",
      "Requirement already satisfied: cffi>=1.0.0 in c:\\users\\user\\anaconda3\\lib\\site-packages (from argon2-cffi->notebook>=6.0->rise) (1.14.3)\n",
      "Requirement already satisfied: setuptools>=18.5 in c:\\users\\user\\anaconda3\\lib\\site-packages (from ipython>=5.0.0->ipykernel->notebook>=6.0->rise) (50.3.1.post20201107)\n",
      "Requirement already satisfied: prompt-toolkit!=3.0.0,!=3.0.1,<3.1.0,>=2.0.0 in c:\\users\\user\\anaconda3\\lib\\site-packages (from ipython>=5.0.0->ipykernel->notebook>=6.0->rise) (3.0.8)\n",
      "Requirement already satisfied: jedi>=0.10 in c:\\users\\user\\anaconda3\\lib\\site-packages (from ipython>=5.0.0->ipykernel->notebook>=6.0->rise) (0.17.1)\n",
      "Requirement already satisfied: decorator in c:\\users\\user\\anaconda3\\lib\\site-packages (from ipython>=5.0.0->ipykernel->notebook>=6.0->rise) (4.4.2)\n",
      "Requirement already satisfied: backcall in c:\\users\\user\\anaconda3\\lib\\site-packages (from ipython>=5.0.0->ipykernel->notebook>=6.0->rise) (0.2.0)\n",
      "Requirement already satisfied: colorama; sys_platform == \"win32\" in c:\\users\\user\\anaconda3\\lib\\site-packages (from ipython>=5.0.0->ipykernel->notebook>=6.0->rise) (0.4.4)\n",
      "Requirement already satisfied: pickleshare in c:\\users\\user\\anaconda3\\lib\\site-packages (from ipython>=5.0.0->ipykernel->notebook>=6.0->rise) (0.7.5)\n",
      "Requirement already satisfied: webencodings in c:\\users\\user\\anaconda3\\lib\\site-packages (from bleach->nbconvert->notebook>=6.0->rise) (0.5.1)\n",
      "Requirement already satisfied: packaging in c:\\users\\user\\anaconda3\\lib\\site-packages (from bleach->nbconvert->notebook>=6.0->rise) (20.4)\n",
      "Requirement already satisfied: async-generator in c:\\users\\user\\anaconda3\\lib\\site-packages (from nbclient<0.6.0,>=0.5.0->nbconvert->notebook>=6.0->rise) (1.10)\n",
      "Requirement already satisfied: nest-asyncio in c:\\users\\user\\anaconda3\\lib\\site-packages (from nbclient<0.6.0,>=0.5.0->nbconvert->notebook>=6.0->rise) (1.4.2)\n",
      "Requirement already satisfied: attrs>=17.4.0 in c:\\users\\user\\anaconda3\\lib\\site-packages (from jsonschema!=2.5.0,>=2.4->nbformat->notebook>=6.0->rise) (20.3.0)\n",
      "Requirement already satisfied: pyrsistent>=0.14.0 in c:\\users\\user\\anaconda3\\lib\\site-packages (from jsonschema!=2.5.0,>=2.4->nbformat->notebook>=6.0->rise) (0.17.3)\n",
      "Requirement already satisfied: pycparser in c:\\users\\user\\anaconda3\\lib\\site-packages (from cffi>=1.0.0->argon2-cffi->notebook>=6.0->rise) (2.20)\n",
      "Requirement already satisfied: wcwidth in c:\\users\\user\\anaconda3\\lib\\site-packages (from prompt-toolkit!=3.0.0,!=3.0.1,<3.1.0,>=2.0.0->ipython>=5.0.0->ipykernel->notebook>=6.0->rise) (0.2.5)\n",
      "Requirement already satisfied: parso<0.8.0,>=0.7.0 in c:\\users\\user\\anaconda3\\lib\\site-packages (from jedi>=0.10->ipython>=5.0.0->ipykernel->notebook>=6.0->rise) (0.7.0)\n",
      "Requirement already satisfied: pyparsing>=2.0.2 in c:\\users\\user\\anaconda3\\lib\\site-packages (from packaging->bleach->nbconvert->notebook>=6.0->rise) (2.4.7)\n"
     ]
    }
   ],
   "source": [
    "!pip install rise"
   ]
  },
  {
   "cell_type": "code",
   "execution_count": 2,
   "metadata": {
    "slideshow": {
     "slide_type": "notes"
    }
   },
   "outputs": [
    {
     "data": {
      "text/plain": [
       "{'theme': 'sky',\n",
       " 'transition': 'zoom',\n",
       " 'start_slideshow_at': 'selected',\n",
       " 'rise': {'width': '90%', 'height': '90%'}}"
      ]
     },
     "execution_count": 2,
     "metadata": {},
     "output_type": "execute_result"
    }
   ],
   "source": [
    "from traitlets.config.manager import BaseJSONConfigManager\n",
    "from pathlib import Path\n",
    "path = Path.home() / \".jupyter\" / \"nbconfig\"\n",
    "cm = BaseJSONConfigManager(config_dir=str(path))\n",
    "cm.update(\n",
    "    \"rise\",\n",
    "    {\n",
    "        \"theme\": \"sky\",\n",
    "        \"transition\": \"zoom\",\n",
    "        \"start_slideshow_at\": \"selected\",\n",
    "         \"rise\": {\"width\": \"90%\", \"height\": \"90%\"}\n",
    "     }\n",
    ")"
   ]
  },
  {
   "cell_type": "markdown",
   "metadata": {
    "slideshow": {
     "slide_type": "slide"
    }
   },
   "source": [
    "# The Tata Econometrics Group\n",
    "\n",
    "## The Gravity Model of Trade"
   ]
  },
  {
   "cell_type": "markdown",
   "metadata": {
    "slideshow": {
     "slide_type": "slide"
    }
   },
   "source": [
    "## Motivation\n",
    "\n",
    "- Our Indian Link & Economic History \n",
    "\n",
    "- Research Question: \"What are the key insights we can obtain when comparing colonised and not colonised countries on their bilateral trade today?\" \n",
    "    \n",
    "    - Hypothesis: \t* *The duration of a colony determines the volume of bilateral trade such that a longer a nation       colonised, the less the bilateral trade. \n",
    "    \n",
    "- (Working) Papers:\n",
    "    - Mitchener & Weidenmier (2008)\n",
    "        - Trade Flow factors, from railroads \n",
    "    - Nguyen & Wu (2019)\n",
    "        - Preferential Trade Agreements \n",
    "\n",
    "- Our Regression equation:\n",
    "\n",
    "### ln(Exportsij) = β0 + β1lnYi+ β2lnYj + β3lnDij + β4ELTi + β5ESTi + β4BLTi+ β5BSTi + β6ln(TOij) + β7comcol  + εij"
   ]
  },
  {
   "cell_type": "markdown",
   "metadata": {
    "slideshow": {
     "slide_type": "slide"
    }
   },
   "source": [
    "## Approach\n",
    "\n",
    "- Split into two pairs by timezones\n",
    "\n",
    "- Our \"Tools\":\n",
    "    - Linjun as our Guru\n",
    "        - Whiteboard \n",
    "        - Theory\n",
    "        - Technical (GroupBy Functions)\n",
    "    \n",
    "    - Microsoft Teams/Zoom\n",
    "   \n",
    "    - Google Colab\n",
    "    \n",
    "    - Github for the Final steps\n",
    "    \n"
   ]
  },
  {
   "cell_type": "code",
   "execution_count": 3,
   "metadata": {
    "slideshow": {
     "slide_type": "slide"
    }
   },
   "outputs": [
    {
     "ename": "KeyboardInterrupt",
     "evalue": "",
     "output_type": "error",
     "traceback": [
      "\u001b[1;31m---------------------------------------------------------------------------\u001b[0m",
      "\u001b[1;31mKeyboardInterrupt\u001b[0m                         Traceback (most recent call last)",
      "\u001b[1;32m<ipython-input-3-2557ff77b88c>\u001b[0m in \u001b[0;36m<module>\u001b[1;34m\u001b[0m\n\u001b[0;32m    158\u001b[0m   \u001b[1;32mreturn\u001b[0m \u001b[0mx\u001b[0m\u001b[1;33m\u001b[0m\u001b[1;33m\u001b[0m\u001b[0m\n\u001b[0;32m    159\u001b[0m \u001b[1;33m\u001b[0m\u001b[0m\n\u001b[1;32m--> 160\u001b[1;33m \u001b[0mcombined\u001b[0m \u001b[1;33m=\u001b[0m \u001b[0mcombined\u001b[0m\u001b[1;33m.\u001b[0m\u001b[0mapply\u001b[0m\u001b[1;33m(\u001b[0m\u001b[0mcombine_partner_name\u001b[0m\u001b[1;33m,\u001b[0m \u001b[0maxis\u001b[0m \u001b[1;33m=\u001b[0m \u001b[1;36m1\u001b[0m\u001b[1;33m)\u001b[0m\u001b[1;33m\u001b[0m\u001b[1;33m\u001b[0m\u001b[0m\n\u001b[0m\u001b[0;32m    161\u001b[0m \u001b[1;33m\u001b[0m\u001b[0m\n\u001b[0;32m    162\u001b[0m \u001b[0mcombined\u001b[0m\u001b[1;33m.\u001b[0m\u001b[0mtail\u001b[0m\u001b[1;33m(\u001b[0m\u001b[1;33m)\u001b[0m\u001b[1;33m\u001b[0m\u001b[1;33m\u001b[0m\u001b[0m\n",
      "\u001b[1;32m~\\anaconda3\\lib\\site-packages\\pandas\\core\\frame.py\u001b[0m in \u001b[0;36mapply\u001b[1;34m(self, func, axis, raw, result_type, args, **kwds)\u001b[0m\n\u001b[0;32m   7546\u001b[0m             \u001b[0mkwds\u001b[0m\u001b[1;33m=\u001b[0m\u001b[0mkwds\u001b[0m\u001b[1;33m,\u001b[0m\u001b[1;33m\u001b[0m\u001b[1;33m\u001b[0m\u001b[0m\n\u001b[0;32m   7547\u001b[0m         )\n\u001b[1;32m-> 7548\u001b[1;33m         \u001b[1;32mreturn\u001b[0m \u001b[0mop\u001b[0m\u001b[1;33m.\u001b[0m\u001b[0mget_result\u001b[0m\u001b[1;33m(\u001b[0m\u001b[1;33m)\u001b[0m\u001b[1;33m\u001b[0m\u001b[1;33m\u001b[0m\u001b[0m\n\u001b[0m\u001b[0;32m   7549\u001b[0m \u001b[1;33m\u001b[0m\u001b[0m\n\u001b[0;32m   7550\u001b[0m     \u001b[1;32mdef\u001b[0m \u001b[0mapplymap\u001b[0m\u001b[1;33m(\u001b[0m\u001b[0mself\u001b[0m\u001b[1;33m,\u001b[0m \u001b[0mfunc\u001b[0m\u001b[1;33m)\u001b[0m \u001b[1;33m->\u001b[0m \u001b[1;34m\"DataFrame\"\u001b[0m\u001b[1;33m:\u001b[0m\u001b[1;33m\u001b[0m\u001b[1;33m\u001b[0m\u001b[0m\n",
      "\u001b[1;32m~\\anaconda3\\lib\\site-packages\\pandas\\core\\apply.py\u001b[0m in \u001b[0;36mget_result\u001b[1;34m(self)\u001b[0m\n\u001b[0;32m    178\u001b[0m             \u001b[1;32mreturn\u001b[0m \u001b[0mself\u001b[0m\u001b[1;33m.\u001b[0m\u001b[0mapply_raw\u001b[0m\u001b[1;33m(\u001b[0m\u001b[1;33m)\u001b[0m\u001b[1;33m\u001b[0m\u001b[1;33m\u001b[0m\u001b[0m\n\u001b[0;32m    179\u001b[0m \u001b[1;33m\u001b[0m\u001b[0m\n\u001b[1;32m--> 180\u001b[1;33m         \u001b[1;32mreturn\u001b[0m \u001b[0mself\u001b[0m\u001b[1;33m.\u001b[0m\u001b[0mapply_standard\u001b[0m\u001b[1;33m(\u001b[0m\u001b[1;33m)\u001b[0m\u001b[1;33m\u001b[0m\u001b[1;33m\u001b[0m\u001b[0m\n\u001b[0m\u001b[0;32m    181\u001b[0m \u001b[1;33m\u001b[0m\u001b[0m\n\u001b[0;32m    182\u001b[0m     \u001b[1;32mdef\u001b[0m \u001b[0mapply_empty_result\u001b[0m\u001b[1;33m(\u001b[0m\u001b[0mself\u001b[0m\u001b[1;33m)\u001b[0m\u001b[1;33m:\u001b[0m\u001b[1;33m\u001b[0m\u001b[1;33m\u001b[0m\u001b[0m\n",
      "\u001b[1;32m~\\anaconda3\\lib\\site-packages\\pandas\\core\\apply.py\u001b[0m in \u001b[0;36mapply_standard\u001b[1;34m(self)\u001b[0m\n\u001b[0;32m    269\u001b[0m \u001b[1;33m\u001b[0m\u001b[0m\n\u001b[0;32m    270\u001b[0m     \u001b[1;32mdef\u001b[0m \u001b[0mapply_standard\u001b[0m\u001b[1;33m(\u001b[0m\u001b[0mself\u001b[0m\u001b[1;33m)\u001b[0m\u001b[1;33m:\u001b[0m\u001b[1;33m\u001b[0m\u001b[1;33m\u001b[0m\u001b[0m\n\u001b[1;32m--> 271\u001b[1;33m         \u001b[0mresults\u001b[0m\u001b[1;33m,\u001b[0m \u001b[0mres_index\u001b[0m \u001b[1;33m=\u001b[0m \u001b[0mself\u001b[0m\u001b[1;33m.\u001b[0m\u001b[0mapply_series_generator\u001b[0m\u001b[1;33m(\u001b[0m\u001b[1;33m)\u001b[0m\u001b[1;33m\u001b[0m\u001b[1;33m\u001b[0m\u001b[0m\n\u001b[0m\u001b[0;32m    272\u001b[0m \u001b[1;33m\u001b[0m\u001b[0m\n\u001b[0;32m    273\u001b[0m         \u001b[1;31m# wrap results\u001b[0m\u001b[1;33m\u001b[0m\u001b[1;33m\u001b[0m\u001b[1;33m\u001b[0m\u001b[0m\n",
      "\u001b[1;32m~\\anaconda3\\lib\\site-packages\\pandas\\core\\apply.py\u001b[0m in \u001b[0;36mapply_series_generator\u001b[1;34m(self)\u001b[0m\n\u001b[0;32m    296\u001b[0m         \u001b[1;32melse\u001b[0m\u001b[1;33m:\u001b[0m\u001b[1;33m\u001b[0m\u001b[1;33m\u001b[0m\u001b[0m\n\u001b[0;32m    297\u001b[0m             \u001b[1;32mwith\u001b[0m \u001b[0moption_context\u001b[0m\u001b[1;33m(\u001b[0m\u001b[1;34m\"mode.chained_assignment\"\u001b[0m\u001b[1;33m,\u001b[0m \u001b[1;32mNone\u001b[0m\u001b[1;33m)\u001b[0m\u001b[1;33m:\u001b[0m\u001b[1;33m\u001b[0m\u001b[1;33m\u001b[0m\u001b[0m\n\u001b[1;32m--> 298\u001b[1;33m                 \u001b[1;32mfor\u001b[0m \u001b[0mi\u001b[0m\u001b[1;33m,\u001b[0m \u001b[0mv\u001b[0m \u001b[1;32min\u001b[0m \u001b[0menumerate\u001b[0m\u001b[1;33m(\u001b[0m\u001b[0mseries_gen\u001b[0m\u001b[1;33m)\u001b[0m\u001b[1;33m:\u001b[0m\u001b[1;33m\u001b[0m\u001b[1;33m\u001b[0m\u001b[0m\n\u001b[0m\u001b[0;32m    299\u001b[0m                     \u001b[1;31m# ignore SettingWithCopy here in case the user mutates\u001b[0m\u001b[1;33m\u001b[0m\u001b[1;33m\u001b[0m\u001b[1;33m\u001b[0m\u001b[0m\n\u001b[0;32m    300\u001b[0m                     \u001b[0mresults\u001b[0m\u001b[1;33m[\u001b[0m\u001b[0mi\u001b[0m\u001b[1;33m]\u001b[0m \u001b[1;33m=\u001b[0m \u001b[0mself\u001b[0m\u001b[1;33m.\u001b[0m\u001b[0mf\u001b[0m\u001b[1;33m(\u001b[0m\u001b[0mv\u001b[0m\u001b[1;33m)\u001b[0m\u001b[1;33m\u001b[0m\u001b[1;33m\u001b[0m\u001b[0m\n",
      "\u001b[1;31mKeyboardInterrupt\u001b[0m: "
     ]
    }
   ],
   "source": [
    "#Tushar Mehra\n",
    "\n",
    "import pandas as pd\n",
    "import numpy as np\n",
    "import matplotlib.pyplot as plt\n",
    "import statsmodels.api as sm\n",
    "\n",
    "gravity = pd.read_excel('https://www.dropbox.com/s/2uha8rwc8bngcsz/servicesdataset%202.xlsx?dl=1')\n",
    "\n",
    "gravity.head()\n",
    "\n",
    "gravity.shape\n",
    "\n",
    "gravity.describe()\n",
    "\n",
    "gravity['trade_restrictiveness'] = gravity['ent_cost_imp'] + gravity['ent_cost_exp']\n",
    "#Adding cost oftrade to importer and cost of trade to exporter together to measure trade restrictiveness (0 means none, more than 2 means virtually impossible to trade) \n",
    "\n",
    "gravity = gravity.drop(['contig','comlang_off','comlang_ethno','colony','distcap','etcr_exp','etcr_imp','lat_exp','lat_imp'], axis=1)\n",
    "\n",
    "colony= pd.read_excel('https://www.dropbox.com/s/216s24p3f8aj8ni/Copy%20of%20Colonial_transformation_data%20%281%29.xls?dl=1')\n",
    "\n",
    "colony.head()\n",
    "\n",
    "colony.describe()\n",
    "\n",
    "colony.shape\n",
    "\n",
    "gravity.columns\n",
    "\n",
    "colony.columns\n",
    "\n",
    "def clean_col(col):\n",
    "  col = col.strip()\n",
    "  col = col.replace('Country Name', 'Country Name - Importer')\n",
    "  col = col.replace('Main colonial \"motherland\", source: Ziltener/KŸnzler', 'Colonial Motherland - Importer')\n",
    "  col = col.replace('onset of colonialism, source: Ziltener/KŸnzler 2008', 'Year of Colonisation - Importer')\n",
    "  col = col.replace('end of colonialism, source: Ziltener/KŸnzler 2008', 'Year of Independence - Importer')\n",
    "  col = col.replace('COLYEARS', 'Years under Colonisation - Importer')\n",
    "  return col\n",
    "\n",
    "new_columns = []\n",
    "for c in colony.columns:\n",
    "    clean_c = clean_col(c)\n",
    "    new_columns.append(clean_c)\n",
    "\n",
    "colony.columns = new_columns\n",
    "\n",
    "colony_series_dropper = colony.columns.to_series()['Violent Colonization, Wars of Defence etc; Source: own coding; cf. COW Dataset (':'colonial borders split ethnic groups, cut traditional space of close interaction']\n",
    "colony = colony.drop(colony_series_dropper, axis=1)\n",
    "#Dropping extra data points that are not going to be needed for our regression; had to convert columns to a series to be able to drop a range of columns \n",
    "\n",
    "\n",
    "combined_imp = gravity.merge(colony, left_on = 'imp', right_on = 'Country Code World Bank', how = 'left')\n",
    "combined_imp.tail()\n",
    "\n",
    "def clean_col_2(col):\n",
    "  col = col.strip()\n",
    "  col = col.replace('Country Name - Importer', 'Country Name - Exporter')\n",
    "  col = col.replace('Colonial Motherland - Importer', 'Colonial Motherland - Exporter')\n",
    "  col = col.replace('Year of Colonisation - Importer', 'Year of Colonisation - Exporter' )\n",
    "  col = col.replace('Year of Independence - Importer', 'Year of Independence - Exporter')\n",
    "  col = col.replace('Years under Colonisation - Importer', 'Years under Colonisation - Exporter')\n",
    "  return col\n",
    "\n",
    "new_columns = []\n",
    "for c in colony.columns:\n",
    "    clean_c = clean_col_2(c)\n",
    "    new_columns.append(clean_c)\n",
    "\n",
    "colony.columns = new_columns\n",
    "\n",
    "# note here that to merge two things, you need to provide a reference column so the computer knows what you're merging based on, i.e. to associate A in dataframe 1 with A in dataframe 2.\n",
    "# hence ask yourself if you're merging based on exp or imp in the gravity dataframe, and which associatetd column in the colonisation dataframe.\n",
    "\n",
    "# after that, read the .merge reference here https://pandas.pydata.org/pandas-docs/version/0.23.4/generated/pandas.merge.html or I can provide more hints, if you would like.\n",
    "\n",
    "\n",
    "combined = combined_imp.merge(colony, left_on = 'exp', right_on = 'Country Code World Bank', how = 'left')\n",
    "combined.tail()\n",
    "\n",
    "combined.head()\n",
    "\n",
    "imp_short_term_colony_bool = combined.loc[:, 'Years under Colonisation - Importer'] <= 100\n",
    "imp_long_term_colony_bool = combined['Years under Colonisation - Importer'] > 100\n",
    "exp_short_term_colony_bool = combined['Years under Colonisation - Exporter'] <= 100\n",
    "exp_long_term_colony_bool = combined['Years under Colonisation - Exporter'] > 100\n",
    "#Time period of 100 years determined by seeing the mean and median of the data from colony.describe() above\n",
    "\n",
    "combined.loc[imp_short_term_colony_bool,:]\n",
    "\n",
    "combined.loc[imp_long_term_colony_bool, :]\n",
    "\n",
    "combined.shape\n",
    "\n",
    "GBR_test_bool = (combined['imp'] == 'GBR')\n",
    "#Have this boolean for testing purposes to see what happens to non-colonised countries in our data set\n",
    "\n",
    "\n",
    "combined.loc[GBR_test_bool, :]\n",
    "#This is the test to see what happens when you examine the importing data for GBR, a country that was never colonised\n",
    "\n",
    "\n",
    "combined['imp_short_term_colony'] = 0\n",
    "combined['imp_long_term_colony'] = 0\n",
    "combined['exp_short_term_colony'] = 0\n",
    "combined['exp_long_term_colony'] = 0\n",
    "#Do all the coding for short-term and long-term colonies in the same cells so that they are easier to keep track of\n",
    "\n",
    "combined.loc[imp_short_term_colony_bool,'imp_short_term_colony'] = 1\n",
    "combined.loc[imp_long_term_colony_bool,'imp_long_term_colony'] = 1\n",
    "combined.loc[exp_short_term_colony_bool,'exp_short_term_colony'] = 1\n",
    "combined.loc[exp_long_term_colony_bool,'exp_long_term_colony'] = 1\n",
    "\n",
    "colony_duration_test_bool = (combined['imp'] == 'IND')\n",
    "combined.loc[colony_duration_test_bool, :]\n",
    "#This boolean is to test whether the dummy of short-term and long-term colony has worked or not; can change the three-letter imp code and see the short-term colony column\n",
    "\n",
    "combined.loc[combined.loc[:,'Colonial Motherland - Importer'] == 'P','Colonial Motherland - Importer'] = 'PRT'\n",
    "combined.loc[combined.loc[:,'Colonial Motherland - Exporter'] == 'P','Colonial Motherland - Exporter'] = 'PRT'\n",
    "combined.loc[combined.loc[:,'Colonial Motherland - Importer'] == 'UK', 'Colonial Motherland - Importer'] = 'GBR'\n",
    "combined.loc[combined.loc[:,'Colonial Motherland - Exporter'] == 'UK', 'Colonial Motherland - Exporter'] = 'GBR'\n",
    "combined.loc[combined.loc[:,'Colonial Motherland - Importer'] == 'B', 'Colonial Motherland -Importer'] = 'BEL'\n",
    "combined.loc[combined.loc[:,'Colonial Motherland - Exporter'] == 'B', 'Colonial Motherland -Exporter'] = 'BEL'  \n",
    "combined.loc[combined.loc[:,'Colonial Motherland - Importer'] == 'F', 'Colonial Motherland - Importer'] = 'FRA'\n",
    "combined.loc[combined.loc[:,'Colonial Motherland - Exporter'] == 'F', 'Colonial Motherland - Exporter'] = 'FRA'\n",
    "combined.loc[combined.loc[:,'Colonial Motherland - Importer'] == 'I', 'Colonial Motherland - Importer'] = 'ITA'\n",
    "combined.loc[combined.loc[:,'Colonial Motherland - Exporter'] == 'I', 'Colonial Motherland - Exporter'] = 'ITA'\n",
    "combined.loc[combined.loc[:,'Colonial Motherland - Importer'] == 'SP', 'Colonial Motherland - Importer'] = 'ESP'\n",
    "combined.loc[combined.loc[:,'Colonial Motherland - Exporter'] == 'SP', 'Colonial Motherland -Exporter'] = 'ESP'\n",
    "combined.loc[combined.loc[:,'Colonial Motherland - Importer'] == 'NL', 'Colonial Motherland - Importer'] = 'NLD'\n",
    "combined.loc[combined.loc[:,'Colonial Motherland - Exporter'] == 'NL', 'Colonial Motherland - Exporter'] = 'NLD' \n",
    "combined.loc[combined.loc[:,'Colonial Motherland - Importer'] == 'JP', 'Colonial Motherland - Importer'] = 'JPN'\n",
    "combined.loc[combined.loc[:,'Colonial Motherland - Exporter'] == 'JP', 'Colonial Motherland - Exporter'] = 'JPN'\n",
    "combined.loc[combined.loc[:,'Colonial Motherland - Importer'] == 'US', 'Colonial Motherland - Importer'] = 'USA'    \n",
    "combined.loc[combined.loc[:,'Colonial Motherland - Exporter'] == 'US', 'Colonial Motherland - Exporter'] = 'USA'\n",
    "combined.loc[combined.loc[:,'Colonial Motherland - Importer'] == 'AU', 'Colonial Motherland - Importer'] = 'AUS'\n",
    "combined.loc[combined.loc[:,'Colonial Motherland - Exporter'] == 'AU', 'Colonial Motherland - Exporter'] = 'AUS'\n",
    "combined.loc[combined.loc[:,'Colonial Motherland - Importer'] == 'UK/F','Colonial Motherland - Importer'] = 'GBR/FRA' \n",
    "combined.loc[combined.loc[:,'Colonial Motherland - Exporter'] == 'UK/F','Colonial Motherland - Exporter'] = 'GBR/FRA' \n",
    "combined.loc[combined.loc[:,'Colonial Motherland -Importer'] == 'x','Colonial Motherland - Importer'] = 'INDIRECT'\n",
    "combined.loc[combined.loc[:,'Colonial Motherland -Exporter'] == 'x','Colonial Motherland - Exporter'] = 'INDIRECT'\n",
    "\n",
    "combined['Colonial Motherland - Importer'].unique()\n",
    "\n",
    "combined['Colonial Motherland - Exporter'].unique()\n",
    "\n",
    "combined.shape\n",
    "\n",
    "def combine_partner_name(x):\n",
    "  partner_1 = x['imp']\n",
    "  partner_2 = x['exp']\n",
    "\n",
    "  partner_list = [partner_1, partner_2]\n",
    "  partner_list.sort()\n",
    "\n",
    "  x['partner-list'] = partner_list[0] + \"-\" + partner_list[1]\n",
    "  return x\n",
    "\n",
    "combined = combined.apply(combine_partner_name, axis = 1)\n",
    "\n",
    "combined.tail()\n",
    "\n",
    "combined.shape\n",
    "\n",
    "trade_data = combined.groupby(['partner-list'])['trade'].sum().reset_index()\n",
    "trade_data.head()\n",
    "#If you don't use the reset index method, then you would just have a series where the partner-list is the index. The reset index takes the partner list out and makes it a separate column\n",
    "\n",
    "combined_specific = combined[['partner-list', 'comcol', 'curcol', 'col45', 'dist','distw', 'distwces', 'gdp_exp', 'gdp_imp', 'ent_cost_imp', 'ent_cost_exp','trade_restrictiveness', 'imp_short_term_colony',\t'imp_long_term_colony','exp_short_term_colony','exp_long_term_colony']].drop_duplicates(subset = ['partner-list'])\n",
    "combined_specific.rename(columns={'gdp_exp': 'gdp_1', 'gdp_imp':'gdp_2','imp_short_term_colony':'short_term_colony_1', 'exp_short_term_colony': 'short_term_colony_2', 'imp_long_term_colony':'long_term_colony_1', 'exp_long_term_colony': 'long_term_colony_2' })\n",
    "#Dropping duplicates for colony data in the subset of partner list doesn't matter since the only case where there would be a duplicate to be dropped is if neither are colonies, both are short-term or both are long-term\n",
    "\n",
    "combined_trade_data = pd.merge(trade_data, combined_specific, on ='partner-list', how = 'inner')\n",
    "combined_trade_data[combined_trade_data['partner-list'] == 'GBR-IND']\n",
    "\n",
    "combined_trade_data = combined_trade_data.rename(columns={'gdp_exp': 'gdp_1', 'gdp_imp':'gdp_2','imp_short_term_colony':'short_term_colony_1', 'exp_short_term_colony': 'short_term_colony_2', 'imp_long_term_colony':'long_term_colony_1', 'exp_long_term_colony': 'long_term_colony_2', 'ent_cost_imp':'ent_cost_1','ent_cost_exp':'ent_cost_2' })\n",
    "combined_trade_data.head()\n",
    "\n",
    "combined_trade_data.shape\n",
    "\n",
    "combined_trade_data['either_short_term_colony'] = combined_trade_data['short_term_colony_1'] + combined_trade_data['short_term_colony_2']\n",
    "combined_trade_data['either_long_term_colony'] = combined_trade_data['long_term_colony_1'] + combined_trade_data['long_term_colony_2']\n",
    "combined_trade_data.value_counts('either_short_term_colony')\n",
    "\n",
    "\n",
    "combined_trade_data.value_counts('either_long_term_colony')\n",
    "\n",
    "combined_trade_data.loc[combined_trade_data['either_short_term_colony'] == 2, 'both_short_term_colony'] = 1\n",
    "combined_trade_data.loc[combined_trade_data['either_short_term_colony'] == 2]\n",
    "\n",
    "combined_trade_data.loc[combined_trade_data['either_long_term_colony'] == 2, 'both_long_term_colony'] = 1\n",
    "combined_trade_data.loc[combined_trade_data['either_long_term_colony'] == 2]\n",
    "\n",
    "combined_trade_data.shape\n",
    "\n",
    "combined_trade_data['either_short_term_colony'] = combined_trade_data['either_short_term_colony'].replace(2,0)\n",
    "combined_trade_data['either_long_term_colony'] = combined_trade_data['either_long_term_colony'].replace(2,0)\n",
    "\n",
    "combined_trade_data.value_counts('either_short_term_colony')\n",
    "\n",
    "combined_trade_data.value_counts('either_long_term_colony')\n",
    "\n",
    "combined_trade_data['both_short_term_colony'] = combined_trade_data['both_short_term_colony'].replace(np.nan,0)\n",
    "combined_trade_data['both_long_term_colony'] = combined_trade_data['both_long_term_colony'].replace(np.nan,0)\n",
    "\n",
    "combined_trade_data.value_counts('both_long_term_colony')\n",
    "\n",
    "combined_trade_data.value_counts('both_short_term_colony')\n",
    "\n",
    "combined_trade_data.shape\n",
    "\n",
    "combined_trade_data.tail()\n",
    "\n",
    "combined_trade_data['ln_GDP_1'] = np.log(combined_trade_data['gdp_1'])\n",
    "combined_trade_data['ln_GDP_2'] = np.log(combined_trade_data['gdp_2'])\n",
    "combined_trade_data['ln_distance'] = np.log(combined_trade_data['dist'])\n",
    "combined_trade_data = combined_trade_data[combined_trade_data['trade'] != 0]\n",
    "combined_trade_data['ln_trade'] = np.log(combined_trade_data['trade'])\n",
    "combined_trade_data['ln_trade_restrictiveness'] = np.log(combined_trade_data['trade_restrictiveness'])\n",
    "\n",
    "combined_trade_data.to_csv('Clean_Data.csv', index = False)\n",
    "\n",
    "X = combined_trade_data[['ln_GDP_1', 'ln_GDP_2', 'ln_distance', 'ln_trade_restrictiveness','comcol', 'either_short_term_colony', 'either_long_term_colony', 'both_short_term_colony','both_long_term_colony']]\n",
    "Y = combined_trade_data['ln_trade']\n",
    "X = sm.add_constant(X)\n",
    "\n",
    "regression_1 = sm.OLS(endog=Y, exog=X, missing ='drop')\n",
    "regression_1_results = regression_1.fit(cov_type = 'HC1')\n",
    "regression_1_results.summary()\n",
    "\n"
   ]
  },
  {
   "cell_type": "markdown",
   "metadata": {
    "slideshow": {
     "slide_type": "slide"
    }
   },
   "source": [
    "## Findings\n",
    "- Being a long-term colony is insignificant to biilateral trade\n",
    "- Short-term colonies seemingly ally together\n",
    "- Trade restrictiveness is less of a trade cost than distance\n",
    "- The traditional gravity model takes precedence over our assumptions/hypothesis"
   ]
  },
  {
   "cell_type": "code",
   "execution_count": null,
   "metadata": {
    "slideshow": {
     "slide_type": "slide"
    }
   },
   "outputs": [],
   "source": [
    "from IPython.display import Image\n",
    "Image(filename = 'GDP-Trade.png', width = 400, height = 400)\n",
    "Image(filename = 'Distance-Trade.png', width = 400, height = 400)\n"
   ]
  },
  {
   "cell_type": "code",
   "execution_count": null,
   "metadata": {
    "slideshow": {
     "slide_type": "slide"
    }
   },
   "outputs": [],
   "source": [
    "#Visualisations"
   ]
  },
  {
   "cell_type": "markdown",
   "metadata": {
    "slideshow": {
     "slide_type": "slide"
    }
   },
   "source": [
    "## Text for Yash & Aryan "
   ]
  },
  {
   "cell_type": "markdown",
   "metadata": {
    "slideshow": {
     "slide_type": "slide"
    }
   },
   "source": [
    "# Closing Points for the Team"
   ]
  }
 ],
 "metadata": {
  "celltoolbar": "Slideshow",
  "kernelspec": {
   "display_name": "Python 3",
   "language": "python",
   "name": "python3"
  },
  "language_info": {
   "codemirror_mode": {
    "name": "ipython",
    "version": 3
   },
   "file_extension": ".py",
   "mimetype": "text/x-python",
   "name": "python",
   "nbconvert_exporter": "python",
   "pygments_lexer": "ipython3",
   "version": "3.8.5"
  }
 },
 "nbformat": 4,
 "nbformat_minor": 4
}
